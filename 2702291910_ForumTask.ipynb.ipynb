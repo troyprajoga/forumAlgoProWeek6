{
  "metadata": {
    "language_info": {
      "codemirror_mode": {
        "name": "python",
        "version": 3
      },
      "file_extension": ".py",
      "mimetype": "text/x-python",
      "name": "python",
      "nbconvert_exporter": "python",
      "pygments_lexer": "ipython3",
      "version": "3.8"
    },
    "kernelspec": {
      "name": "python",
      "display_name": "Python (Pyodide)",
      "language": "python"
    }
  },
  "nbformat_minor": 4,
  "nbformat": 4,
  "cells": [
    {
      "cell_type": "code",
      "source": "#Forum Task one\n\n#dictionaries\nlloyd = {\"name\": \"lloyd\", \"homework\": [90.0, 97.0, 75.0, 92.0], \"quizzes\": [88.0, 40.0, 94.0], \"tests\": [75.0, 90.0]}\nalice = {\"name\": \"alice\", \"homework\": [100.0, 92.0, 98.0, 100.0], \"quizzes\": [82.0, 83.0, 91.0], \"tests\": [89.0, 97.0]}\ntyler = {\"name\": \"tyler\", \"homework\": [0.0, 87.0, 75.0, 22.0], \"quizzes\": [0.0, 75.0, 78.0], \"tests\": [100.0, 100.0]}\n\n#students list\nstudents = [lloyd,alice,tyler]\n\n#print student names\nfor student in students:\n    print(student[\"name\"])\n\n#print student homeworks\nfor student in students:\n    print(student[\"homework\"])\n\n#print student quizzes\nfor student in students:\n    print(student[\"quizzes\"])\n\n#print student tests\nfor student in students:\n    print(student[\"tests\"])\n\n#function to compute average of any list\ndef average(numbers):\n    total = sum(numbers)\n    float(total)\n    return total/len(numbers)\n\n\ndef get_average(student):\n\n    # get average\n    homework = average(student[\"homework\"])\n    quizzes = average(student[\"quizzes\"])\n    tests = average(student[\"tests\"])\n\n    # get  weighted average\n    weighted_avg = (homework * 0.1) + (quizzes * 0.3) + (tests * 0.6)\n\n    return weighted_avg\n\n\n#function to get letter grade\ndef get_letter_grade(score):\n    if score >= 90:\n        return \"A\"\n    elif score >= 80:\n        return \"B\"\n    elif score >= 70:\n        return \"C\"\n    elif score >= 60:\n        return \"D\"\n    else:\n        return \"F\"\n\n\n#testing function\nprint(get_letter_grade(get_average(lloyd)))\n\ndef get_class_average(students):\n    results = []\n\n    # get student average and append to results\n    for student in students:\n        student_average = get_average(student)\n        results.append(student_average)\n\n    # use results to get class average\n    class_average = average(results)\n    return class_average\n\n\n#testing function\nprint(get_class_average(students))\nprint(get_letter_grade(get_class_average(students)))",
      "metadata": {
        "trusted": true
      },
      "execution_count": null,
      "outputs": []
    },
    {
      "cell_type": "code",
      "source": "#Forum task two\n\n#course tuple\ncourses = (\"COP 2510\", \"EGN 3000L\", \"MAC 2281\", \"MUH 3016\", \"PHY 2048\")\n\n#course name dictionary\ncourse_names = {\n    \"COP 2510\": \"Programming Concepts\",\n    \"EGN 3000L\": \"Foundations of Engineering Lab\",\n    \"MAC 2281\": \"Calculus I\",\n    \"MUH 3016\": \"Survey of Jazz\",\n    \"PHY 2048\": \"General Physics I\"\n}\n\n#course instructors disctionary\ninstructors = {\n    \"COP 2510\": \"Z. Beasley\",\n    \"EGN 3000L\": \"J. Anderson\",\n    \"MAC 2281\": \"A. Makaryus\",\n    \"MUH 3016\": \"A. Wilkins\",\n    \"PHY 2048\": \"G. Pradhan\"\n}\n\n#course class times dictionary\nclass_times = {\n    \"COP 2510\": \"MW 12:30pm – 1:45pm\",\n    \"EGN 3000L\": \"TR 11:00am – 12:15pm\",\n    \"MAC 2281\": \"MW 9:30am – 10:45am\",\n    \"MUH 3016\": \"online asynchronous\",\n    \"PHY 2048\": \"TR 5:00pm – 6:15pm\"\n}\n\n#take user input\nuser_input = input(\"Enter a course number: \")\nif user_input in course_names:\n    #if user input is a valid course name, display information\n    print(\"The course details are: \")\n    print(\"Course name: \" + course_names[user_input])\n    print(\"Instructor: \" + instructors[user_input])\n    print(\"Class Times: \" + class_times[user_input])\nelse:\n    #else print invalid\n    print(user_input + \" is an invalid course number.\")",
      "metadata": {},
      "execution_count": null,
      "outputs": []
    },
    {
      "cell_type": "code",
      "source": "#forum task three\n\n# week days\ndays = (\"Sunday\", \"Monday\", \"Tuesday\", \"Wednesday\", \"Thursday\", \"Friday\", \"Saturday\")\n\n# create sales data empty list\nsales_data = []\n\n# Loop to get sales data for each day\nfor day in days:\n    while True:\n        try:\n            #if float inputted append to sales\n            sales = float(input(\"Enter the sales for \" + day + \": \"))\n            if sales >= 0:\n                sales_data.append(sales)\n                break\n            else:\n                #this makes sure a positive float is inputted\n                print(\"Input was invalid. Re-Enter the sales for \" + day + \": \")\n        except ValueError:\n            #this makes sure that a flaot is inputted\n            print(\"Invalid input. Please enter a valid number.\")\n\n# Format the sales amounts as currency\nformatted_total_sales = \"{:,.2f}\".format(sum(sales_data))\nformatted_min_sale = \"{:,.2f}\".format(min(sales_data))\nformatted_max_sale = \"{:,.2f}\".format(max(sales_data))\n\n#print total sales and mix and max sales\nprint(\"The total sales is: $\" + formatted_total_sales)\nprint(\"The minimum sale amount was : $\" + formatted_min_sale + \" The maximum sale amount was: $\" + formatted_max_sale)",
      "metadata": {},
      "execution_count": null,
      "outputs": []
    },
    {
      "cell_type": "code",
      "source": "#forum task four\n\n#morse code dictionary\nmorse_code_dict = {\n    'A': '.-', 'B': '-...', 'C': '-.-.', 'D': '-..', 'E': '.', 'F': '..-.', 'G': '--.', 'H': '....',\n    'I': '..', 'J': '.---', 'K': '-.-', 'L': '.-..', 'M': '--', 'N': '-.', 'O': '---', 'P': '.--.',\n    'Q': '--.-', 'R': '.-.', 'S': '...', 'T': '-', 'U': '..-', 'V': '...-', 'W': '.--', 'X': '-..-',\n    'Y': '-.--', 'Z': '--..', '1': '.----', '2': '..---', '3': '...--', '4': '....-', '5': '.....',\n    '6': '-....', '7': '--...', '8': '---..', '9': '----.', '0': '-----', ' ': ' '\n}\n\n#function to convert text to morse\ndef convert(text):\n    morse_code = \"\"\n    for char in text:\n        if char.upper() in morse_code_dict:\n            morse_code += morse_code_dict[char.upper()] + \"\"\n        else:\n            morse_code += \" \"\n    return morse_code\n\n\n#take user input\nuser_input = input(\"Enter a string: \")\n\nprint(convert(user_input))",
      "metadata": {},
      "execution_count": null,
      "outputs": []
    }
  ]
}